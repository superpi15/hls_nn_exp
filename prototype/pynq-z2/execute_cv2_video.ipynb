{
 "cells": [
  {
   "cell_type": "code",
   "execution_count": 2,
   "metadata": {},
   "outputs": [
    {
     "data": {
      "application/javascript": [
       "\n",
       "try {\n",
       "require(['notebook/js/codecell'], function(codecell) {\n",
       "  codecell.CodeCell.options_default.highlight_modes[\n",
       "      'magic_text/x-csrc'] = {'reg':[/^%%microblaze/]};\n",
       "  Jupyter.notebook.events.one('kernel_ready.Kernel', function(){\n",
       "      Jupyter.notebook.get_cells().map(function(cell){\n",
       "          if (cell.cell_type == 'code'){ cell.auto_highlight(); } }) ;\n",
       "  });\n",
       "});\n",
       "} catch (e) {};\n"
      ]
     },
     "metadata": {},
     "output_type": "display_data"
    },
    {
     "data": {
      "application/javascript": [
       "\n",
       "try {\n",
       "require(['notebook/js/codecell'], function(codecell) {\n",
       "  codecell.CodeCell.options_default.highlight_modes[\n",
       "      'magic_text/x-csrc'] = {'reg':[/^%%pybind11/]};\n",
       "  Jupyter.notebook.events.one('kernel_ready.Kernel', function(){\n",
       "      Jupyter.notebook.get_cells().map(function(cell){\n",
       "          if (cell.cell_type == 'code'){ cell.auto_highlight(); } }) ;\n",
       "  });\n",
       "});\n",
       "} catch (e) {};\n"
      ]
     },
     "metadata": {},
     "output_type": "display_data"
    },
    {
     "name": "stdout",
     "output_type": "stream",
     "text": [
      "done bitsream loading\n",
      "init: 2.2148046493530273 seconds \n"
     ]
    }
   ],
   "source": [
    "import cv2\n",
    "from pynq import allocate, Overlay\n",
    "import numpy as np\n",
    "import time\n",
    "%matplotlib inline\n",
    "\n",
    "init_time = time.time()\n",
    "\n",
    "resize_design = Overlay(\"design_1.bit\")\n",
    "\n",
    "dma0 = resize_design.axi_dma_0 # input: image \n",
    "dma1 = resize_design.axi_dma_4 # output: class id \n",
    "dma2 = resize_design.axi_dma_3 # output: labelled image \n",
    "#dma3 = resize_design.axi_dma_3 # input: font input \n",
    "dma4 = resize_design.axi_dma_1 # font input \n",
    "#dma5 = resize_design.axi_dma_5 # word output\n",
    "dma6 = resize_design.axi_dma_2 # input: image \n",
    "resizer   = resize_design.resize_accel_0 # resize \n",
    "alpha_mix = resize_design.wgen_mix_0  # mix label name and input image \n",
    "wgen      = resize_design.wgen_0    # generate image of label name \n",
    "#stream24x2= resize_design.stream24x2_0 \n",
    "print(\"done bitsream loading\")\n",
    "print(\"init: %s seconds \" % (time.time()-init_time))"
   ]
  },
  {
   "cell_type": "code",
   "execution_count": 3,
   "metadata": {},
   "outputs": [],
   "source": [
    "global_font_cached = 0\n",
    "\n",
    "def run_kernel():\n",
    "    dma0.sendchannel.transfer(in_buffer)\n",
    "    dma6.sendchannel.transfer(in_buffer)\n",
    "    dma1.recvchannel.transfer(out_buffer)\n",
    "    dma2.recvchannel.transfer(out_buffer2)\n",
    "#    dma3.sendchannel.transfer(font)\n",
    "    global global_font_cached\n",
    "    if 0 == global_font_cached:\n",
    "        dma4.sendchannel.transfer(font)\n",
    "    #dma5.recvchannel.transfer(wimg)\n",
    "    wgen.write(0x10,font_w)\n",
    "    wgen.write(0x18,font_h)\n",
    "    wgen.write(0x20,font_n)\n",
    "#     print(\"ol status %d\"% (resizer.read(0x00)))\n",
    "    resizer.write(0x00,0x81) # start\n",
    "    alpha_mix.write(0x00,0x81) # start\n",
    "    wgen.write(0x00,0x81)\n",
    "#     print(\"ol status %d\"% (resizer.read(0x00)))\n",
    "    dma0.sendchannel.wait()\n",
    "    dma6.sendchannel.wait()\n",
    "    dma1.recvchannel.wait()\n",
    "    dma2.recvchannel.wait()\n",
    "    if 0 == global_font_cached:\n",
    "        global_font_cached = 1\n",
    "        dma4.sendchannel.wait()\n",
    "    #dma5.recvchannel.wait()\n",
    "    #h3.sendchannel.wait()"
   ]
  },
  {
   "cell_type": "code",
   "execution_count": 4,
   "metadata": {},
   "outputs": [],
   "source": [
    "from PIL import Image\n",
    "# load font image\n",
    "font_h=32\n",
    "font_w=23\n",
    "font_n=36\n",
    "font_c=4 # font channel\n",
    "word_l=9\n",
    "word_c=3\n",
    "fimg = Image.open('font_256.png')\n",
    "fbuf = np.array(fimg)\n",
    "font = allocate(shape=(font_h, font_w * font_n, font_c), dtype=np.uint8, cacheable=1)\n",
    "font[:]=fbuf\n",
    "wimg = allocate(shape=(font_h, font_w * word_l, word_c), dtype=np.uint8, cacheable=1)"
   ]
  },
  {
   "cell_type": "code",
   "execution_count": 5,
   "metadata": {},
   "outputs": [],
   "source": [
    "old_width, old_height = 960,540\n",
    "in_buffer = allocate(shape=(old_height, old_width, 3),\n",
    "                                   dtype=np.uint8, cacheable=1)\n",
    "# output: class id\n",
    "out_buffer = allocate(shape=(1,),\n",
    "                            dtype=np.uint8, cacheable=1)\n",
    "# output: labelled image \n",
    "out_buffer2= allocate(shape=(old_height, old_width, 3),\n",
    "                            dtype=np.uint8, cacheable=1)\n",
    "new_width = 32 #int(old_width/resize_factor)\n",
    "new_height = 32 #int(old_height/resize_factor)\n",
    "\n",
    "resizer.register_map.src_rows = old_height\n",
    "resizer.register_map.src_cols = old_width\n",
    "resizer.register_map.dst_rows = new_height\n",
    "resizer.register_map.dst_cols = new_width\n",
    "\n",
    "alpha_mix.register_map.rows = old_height\n",
    "alpha_mix.register_map.cols = old_width\n",
    "\n"
   ]
  },
  {
   "cell_type": "code",
   "execution_count": null,
   "metadata": {},
   "outputs": [],
   "source": [
    "for c in range(10):\n",
    "    for i in range(2):\n",
    "        print(c,i)\n",
    "        image_path = f\"images/{c}_{i}.jpg\"\n",
    "        original_image = Image.open(image_path)\n",
    "        \n",
    "        #print(\"Image size: {}x{} pixels.\".format(old_width, old_height))\n",
    "        \n",
    "        in_buffer[:] = np.array(original_image)\n",
    "        \n",
    "        run_kernel()\n",
    "        resized_image = Image.fromarray(out_buffer2)\n",
    "        resized_image.save(f'outputImages/{c}_{i}.jpg')\n",
    "        print(out_buffer)\n",
    "\n",
    "        start_time = time.time()\n",
    "        \n",
    "        run_kernel()\n",
    "        #\n",
    "        print(\"done2 %s seconds \" % (time.time()-start_time))\n",
    "\n",
    "        #Image.fromarray(wimg).save('out.bmp')\n",
    "        #print(\"kernel valued sum %d\"% wgen.read(0x38))\n",
    "        display(resized_image)"
   ]
  },
  {
   "cell_type": "code",
   "execution_count": 13,
   "metadata": {},
   "outputs": [
    {
     "data": {
      "text/plain": [
       "None"
      ]
     },
     "metadata": {},
     "output_type": "display_data"
    },
    {
     "name": "stdout",
     "output_type": "stream",
     "text": [
      "avg latency: 0.16557247638702394\n",
      "avg read latency: 0.05075878381729126\n",
      "avg kernel latency: 0.02396446943283081\n",
      "avg display latency: 0.09065614938735962\n"
     ]
    }
   ],
   "source": [
    "from matplotlib import pyplot as plt\n",
    "%matplotlib inline\n",
    "import IPython.display as IPyDis\n",
    "video = cv2.VideoCapture(\"video.avi\")\n",
    "display_handle=IPyDis.display(None, display_id=True)\n",
    "# figure, axis = plt.subplots(figsize=(7.6, 6.1))\n",
    "\n",
    "counter=0\n",
    "stTime=time.time()\n",
    "totleTime=0\n",
    "kernelTime=0\n",
    "readTime=0\n",
    "displayTime=0\n",
    "try:\n",
    "    while True:\n",
    "        readSt=time.time()\n",
    "        ret, frame = video.read()\n",
    "        if not ret:\n",
    "            break\n",
    "        frame=cv2.cvtColor(frame, cv2.COLOR_BGR2RGB)\n",
    "        in_buffer[:] = np.array(frame)\n",
    "        readTime+=time.time()-readSt\n",
    "        kernelSt=time.time()\n",
    "        run_kernel()\n",
    "        kernelTime+=time.time()-kernelSt\n",
    "        \n",
    "        displatSt=time.time()\n",
    "#         cv2.imshow(\"output\",out_buffer2)\n",
    "#         cv2.waitKey(10)\n",
    "#         if counter==0:\n",
    "#             im = axis.imshow(out_buffer2)\n",
    "#         else:\n",
    "#             im.set_data(out_buffer2)\n",
    "#         plt.show()\n",
    "#         plt.imshow(out_buffer2)\n",
    "#         plt.show()\n",
    "        \n",
    "        \n",
    "        resized_image = Image.fromarray(out_buffer2)\n",
    "        #resized_image.save(f'outputImages/{counter}.jpg')\n",
    "        \n",
    "        _, jpg = cv2.imencode('.jpeg', cv2.cvtColor(out_buffer2, cv2.COLOR_RGB2BGR))\n",
    "        display_handle.update(IPyDis.Image(data=jpg.tobytes()))\n",
    "#         display_handle.update(resized_image)\n",
    "        displayTime+=time.time()-displatSt\n",
    "        \n",
    "        #print(counter)\n",
    "        counter+=1\n",
    "except KeyboardInterrupt:\n",
    "    pass\n",
    "finally:\n",
    "    totleTime=time.time()-stTime\n",
    "    video.release()\n",
    "    #cv2.destroyAllWindows()\n",
    "    display_handle.update(None)\n",
    "print(\"avg latency:\",totleTime/counter)\n",
    "print(\"avg read latency:\",readTime/counter)\n",
    "print(\"avg kernel latency:\",kernelTime/counter)\n",
    "print(\"avg display latency:\",displayTime/counter)"
   ]
  },
  {
   "cell_type": "code",
   "execution_count": 14,
   "metadata": {},
   "outputs": [],
   "source": [
    "\n",
    "del in_buffer\n",
    "del out_buffer\n",
    "del out_buffer2"
   ]
  },
  {
   "cell_type": "code",
   "execution_count": null,
   "metadata": {},
   "outputs": [],
   "source": []
  }
 ],
 "metadata": {
  "kernelspec": {
   "display_name": "Python 3",
   "language": "python",
   "name": "python3"
  },
  "language_info": {
   "codemirror_mode": {
    "name": "ipython",
    "version": 3
   },
   "file_extension": ".py",
   "mimetype": "text/x-python",
   "name": "python",
   "nbconvert_exporter": "python",
   "pygments_lexer": "ipython3",
   "version": "3.6.5"
  }
 },
 "nbformat": 4,
 "nbformat_minor": 2
}
